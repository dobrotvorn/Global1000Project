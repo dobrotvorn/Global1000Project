{
 "cells": [
  {
   "cell_type": "code",
   "execution_count": 12,
   "id": "vKxV3pWSENkd",
   "metadata": {
    "id": "vKxV3pWSENkd"
   },
   "outputs": [],
   "source": [
    "# Импортируем все нужные библиотеки\n",
    "import pandas as pd\n",
    "import numpy as np\n",
    "import json\n",
    "from tqdm import tqdm\n",
    "import pandas as pd\n",
    "import gdown"
   ]
  },
  {
   "cell_type": "markdown",
   "id": "nojt01zKj_am",
   "metadata": {
    "id": "nojt01zKj_am"
   },
   "source": [
    "Начало работы с уже обработанными файлами"
   ]
  },
  {
   "cell_type": "markdown",
   "id": "d05e9032",
   "metadata": {},
   "source": [
    "1. Загрузим рейтинги"
   ]
  },
  {
   "cell_type": "code",
   "execution_count": 14,
   "id": "nEXBAZ9GClpB",
   "metadata": {
    "colab": {
     "base_uri": "https://localhost:8080/",
     "height": 36
    },
    "id": "nEXBAZ9GClpB",
    "outputId": "3f0d5e45-9b4a-4466-dc34-4c471271c858"
   },
   "outputs": [
    {
     "data": {
      "text/plain": [
       "'fortune5000_2000.xlsx'"
      ]
     },
     "execution_count": 14,
     "metadata": {},
     "output_type": "execute_result"
    }
   ],
   "source": [
    "gdown.download('https://drive.google.com/uc?id=1mKBwlwo1HVAIFljJ7FyncyqOo2d9DMsW', output='fortune5000_2023.xlsx', quiet=True)\n",
    "gdown.download('https://drive.google.com/uc?id=1vPP8sHjxHipW5Cc6B6rhXmzIyJfGVIxM', output='fortune5000_2000.xlsx', quiet=True)\n"
   ]
  },
  {
   "cell_type": "code",
   "execution_count": 15,
   "id": "Nr1IOHy7Al0J",
   "metadata": {
    "colab": {
     "base_uri": "https://localhost:8080/",
     "height": 206
    },
    "id": "Nr1IOHy7Al0J",
    "outputId": "48933010-35b8-41e7-e306-078c5d463521"
   },
   "outputs": [
    {
     "data": {
      "text/html": [
       "<div>\n",
       "<style scoped>\n",
       "    .dataframe tbody tr th:only-of-type {\n",
       "        vertical-align: middle;\n",
       "    }\n",
       "\n",
       "    .dataframe tbody tr th {\n",
       "        vertical-align: top;\n",
       "    }\n",
       "\n",
       "    .dataframe thead th {\n",
       "        text-align: right;\n",
       "    }\n",
       "</style>\n",
       "<table border=\"1\" class=\"dataframe\">\n",
       "  <thead>\n",
       "    <tr style=\"text-align: right;\">\n",
       "      <th></th>\n",
       "      <th>Rank</th>\n",
       "      <th>2000</th>\n",
       "      <th>REMOVE\\nREVENUES</th>\n",
       "    </tr>\n",
       "  </thead>\n",
       "  <tbody>\n",
       "    <tr>\n",
       "      <th>0</th>\n",
       "      <td>1</td>\n",
       "      <td>Wal-Mart Stores, Inc.</td>\n",
       "      <td>24,652,500</td>\n",
       "    </tr>\n",
       "    <tr>\n",
       "      <th>1</th>\n",
       "      <td>2</td>\n",
       "      <td>General Motors Corporation</td>\n",
       "      <td>18,676,300</td>\n",
       "    </tr>\n",
       "    <tr>\n",
       "      <th>2</th>\n",
       "      <td>3</td>\n",
       "      <td>Exxon Mobil Corporation</td>\n",
       "      <td>18,246,600</td>\n",
       "    </tr>\n",
       "    <tr>\n",
       "      <th>3</th>\n",
       "      <td>4</td>\n",
       "      <td>Ford Motor Company</td>\n",
       "      <td>16,363,000</td>\n",
       "    </tr>\n",
       "    <tr>\n",
       "      <th>4</th>\n",
       "      <td>5</td>\n",
       "      <td>General Electric Company</td>\n",
       "      <td>13,169,800</td>\n",
       "    </tr>\n",
       "  </tbody>\n",
       "</table>\n",
       "</div>"
      ],
      "text/plain": [
       "   Rank                        2000 REMOVE\\nREVENUES\n",
       "0     1       Wal-Mart Stores, Inc.       24,652,500\n",
       "1     2  General Motors Corporation       18,676,300\n",
       "2     3     Exxon Mobil Corporation       18,246,600\n",
       "3     4          Ford Motor Company       16,363,000\n",
       "4     5    General Electric Company       13,169,800"
      ]
     },
     "execution_count": 15,
     "metadata": {},
     "output_type": "execute_result"
    }
   ],
   "source": [
    "df_2000 = pd.read_excel('fortune5000_2000.xlsx')\n",
    "df_2000 = df_2000.rename(columns = {'NAME' : '2000', 'RANK' : 'Rank'})\n",
    "df_2000.head()"
   ]
  },
  {
   "cell_type": "code",
   "execution_count": 16,
   "id": "wnFhxTxxKUuv",
   "metadata": {
    "colab": {
     "base_uri": "https://localhost:8080/",
     "height": 339
    },
    "id": "wnFhxTxxKUuv",
    "outputId": "f7c72d93-2648-4b33-b0c5-64b9b9fc9ad1"
   },
   "outputs": [
    {
     "data": {
      "text/html": [
       "<div>\n",
       "<style scoped>\n",
       "    .dataframe tbody tr th:only-of-type {\n",
       "        vertical-align: middle;\n",
       "    }\n",
       "\n",
       "    .dataframe tbody tr th {\n",
       "        vertical-align: top;\n",
       "    }\n",
       "\n",
       "    .dataframe thead th {\n",
       "        text-align: right;\n",
       "    }\n",
       "</style>\n",
       "<table border=\"1\" class=\"dataframe\">\n",
       "  <thead>\n",
       "    <tr style=\"text-align: right;\">\n",
       "      <th></th>\n",
       "      <th>Rank_2023</th>\n",
       "      <th>2023</th>\n",
       "    </tr>\n",
       "  </thead>\n",
       "  <tbody>\n",
       "    <tr>\n",
       "      <th>0</th>\n",
       "      <td>1</td>\n",
       "      <td>Walmart</td>\n",
       "    </tr>\n",
       "    <tr>\n",
       "      <th>1</th>\n",
       "      <td>2</td>\n",
       "      <td>Amazon</td>\n",
       "    </tr>\n",
       "    <tr>\n",
       "      <th>2</th>\n",
       "      <td>3</td>\n",
       "      <td>Exxon Mobil</td>\n",
       "    </tr>\n",
       "    <tr>\n",
       "      <th>3</th>\n",
       "      <td>4</td>\n",
       "      <td>Apple</td>\n",
       "    </tr>\n",
       "    <tr>\n",
       "      <th>4</th>\n",
       "      <td>5</td>\n",
       "      <td>UnitedHealth Group</td>\n",
       "    </tr>\n",
       "  </tbody>\n",
       "</table>\n",
       "</div>"
      ],
      "text/plain": [
       "   Rank_2023                2023\n",
       "0          1             Walmart\n",
       "1          2              Amazon\n",
       "2          3         Exxon Mobil\n",
       "3          4               Apple\n",
       "4          5  UnitedHealth Group"
      ]
     },
     "execution_count": 16,
     "metadata": {},
     "output_type": "execute_result"
    }
   ],
   "source": [
    "df = pd.read_excel('fortune5000_2023.xlsx')\n",
    "df = df.rename(columns = {'NAME' : '2023', 'RANK' : 'Rank_2023'})\n",
    "df = df[['Rank_2023','2023']]\n",
    "df.head()"
   ]
  },
  {
   "cell_type": "markdown",
   "id": "887e3608",
   "metadata": {},
   "source": [
    "Объединим рейтинги в одну табличку"
   ]
  },
  {
   "cell_type": "code",
   "execution_count": 17,
   "id": "WxFC9hxMJpiD",
   "metadata": {
    "colab": {
     "base_uri": "https://localhost:8080/",
     "height": 206
    },
    "id": "WxFC9hxMJpiD",
    "outputId": "4e5e0fb6-16ed-4035-c50b-b7a940caf2c9"
   },
   "outputs": [
    {
     "data": {
      "text/html": [
       "<div>\n",
       "<style scoped>\n",
       "    .dataframe tbody tr th:only-of-type {\n",
       "        vertical-align: middle;\n",
       "    }\n",
       "\n",
       "    .dataframe tbody tr th {\n",
       "        vertical-align: top;\n",
       "    }\n",
       "\n",
       "    .dataframe thead th {\n",
       "        text-align: right;\n",
       "    }\n",
       "</style>\n",
       "<table border=\"1\" class=\"dataframe\">\n",
       "  <thead>\n",
       "    <tr style=\"text-align: right;\">\n",
       "      <th></th>\n",
       "      <th>Rank_2023</th>\n",
       "      <th>2023</th>\n",
       "      <th>2000</th>\n",
       "    </tr>\n",
       "  </thead>\n",
       "  <tbody>\n",
       "    <tr>\n",
       "      <th>0</th>\n",
       "      <td>1</td>\n",
       "      <td>Walmart</td>\n",
       "      <td>Wal-Mart Stores, Inc.</td>\n",
       "    </tr>\n",
       "    <tr>\n",
       "      <th>1</th>\n",
       "      <td>2</td>\n",
       "      <td>Amazon</td>\n",
       "      <td>General Motors Corporation</td>\n",
       "    </tr>\n",
       "    <tr>\n",
       "      <th>2</th>\n",
       "      <td>3</td>\n",
       "      <td>Exxon Mobil</td>\n",
       "      <td>Exxon Mobil Corporation</td>\n",
       "    </tr>\n",
       "    <tr>\n",
       "      <th>3</th>\n",
       "      <td>4</td>\n",
       "      <td>Apple</td>\n",
       "      <td>Ford Motor Company</td>\n",
       "    </tr>\n",
       "    <tr>\n",
       "      <th>4</th>\n",
       "      <td>5</td>\n",
       "      <td>UnitedHealth Group</td>\n",
       "      <td>General Electric Company</td>\n",
       "    </tr>\n",
       "  </tbody>\n",
       "</table>\n",
       "</div>"
      ],
      "text/plain": [
       "   Rank_2023                2023                        2000\n",
       "0          1             Walmart       Wal-Mart Stores, Inc.\n",
       "1          2              Amazon  General Motors Corporation\n",
       "2          3         Exxon Mobil     Exxon Mobil Corporation\n",
       "3          4               Apple          Ford Motor Company\n",
       "4          5  UnitedHealth Group    General Electric Company"
      ]
     },
     "execution_count": 17,
     "metadata": {},
     "output_type": "execute_result"
    }
   ],
   "source": [
    "df['2000'] = df_2000['2000']\n",
    "df.head()"
   ]
  },
  {
   "cell_type": "markdown",
   "id": "oq1EEpJOKAwv",
   "metadata": {
    "id": "oq1EEpJOKAwv"
   },
   "source": [
    "Итак, мы скачали два рейтинга Fortune global 1000.\n",
    "\n",
    "\n",
    "---\n",
    "\n",
    "\n",
    "Теперь нам нужно привести все названия компаний к одному времени (ведь некоторые компании в 2000 году назывались по-другому.)\n",
    "\n",
    "Для этого\n",
    "*   Для каждой компании из рейтинга 2023 года найдем список ее предыдущих названий\n",
    "*   При сравнении рейтингов будем сравнивать эти найденные названия с названиями компаний рейтинга 2000 года.\n",
    "\n",
    "\n",
    "\n"
   ]
  },
  {
   "cell_type": "code",
   "execution_count": 43,
   "id": "29f95640",
   "metadata": {},
   "outputs": [
    {
     "data": {
      "text/plain": [
       "\"Пример - у компании Unum Group вот такие были названия: ['Unum Group', 'Unum Provident Corporation']\""
      ]
     },
     "execution_count": 43,
     "metadata": {},
     "output_type": "execute_result"
    }
   ],
   "source": [
    "# загрузим файл с историей названий компаний из рейтинга 2023.\n",
    "with open('chat_gpt_helper.txt', \"r\") as file:\n",
    "    full_company_names_2023_history = json.load(file)\n",
    "def get_names(company, full_company_names_2023_history):\n",
    "    list_names = None\n",
    "    for i in full_company_names_2023_history:\n",
    "        if company in i:\n",
    "            list_names = i[company]\n",
    "            if len(list_names) == 0:\n",
    "                print(company, 'IsNone')\n",
    "            return list_names\n",
    "f'Пример - у компании Unum Group вот такие были названия: ' + str(get_names('Unum Group', full_company_names_2023_history))"
   ]
  },
  {
   "cell_type": "markdown",
   "id": "b75c610d",
   "metadata": {},
   "source": [
    "Итак, вот основная программа : для каждой фирмы из рейтинга Global 2023 попробуем найти совпадение по имени в рейтинге 2003 года, при этом проведем учтем, что в 2003 году компания могла называться по-другому, для этого также будем искать совпадения в именах компании в прошлом"
   ]
  },
  {
   "cell_type": "code",
   "execution_count": 40,
   "id": "PetMniCqOynC",
   "metadata": {
    "colab": {
     "base_uri": "https://localhost:8080/"
    },
    "id": "PetMniCqOynC",
    "outputId": "90f3ce77-c8fe-41f0-b96b-ac983a277b2f"
   },
   "outputs": [
    {
     "data": {
      "text/plain": [
       "'Количество компаний, находящихся в обоих рейтингах = 341'"
      ]
     },
     "execution_count": 40,
     "metadata": {},
     "output_type": "execute_result"
    }
   ],
   "source": [
    "fg = []\n",
    "for company in df['2023']:\n",
    "    all_names_of_the_company = get_names(company, full_company_names_2023_history)\n",
    "    if company in company_previous_names1:\n",
    "        all_names_of_the_company.append(company_previous_names1[company])\n",
    "    if company in company_previous_names:\n",
    "        all_names_of_the_company.append(company_previous_names[company])\n",
    "    try:\n",
    "        for ig in all_names_of_the_company:\n",
    "            if ig in list(df['2000']):\n",
    "                fg.append(ig)\n",
    "    except:\n",
    "        print(company)\n",
    "f'Количество компаний, находящихся в обоих рейтингах = {len(fg)}'"
   ]
  },
  {
   "cell_type": "markdown",
   "id": "656e917a",
   "metadata": {},
   "source": [
    "Итак, в ходе исследования выяснено, что 341 компания осталась в рейтинге, то есть 34.1 %"
   ]
  },
  {
   "cell_type": "markdown",
   "id": "61d049b5",
   "metadata": {},
   "source": []
  }
 ],
 "metadata": {
  "colab": {
   "provenance": []
  },
  "kernelspec": {
   "display_name": "Python 3 (ipykernel)",
   "language": "python",
   "name": "python3"
  },
  "language_info": {
   "codemirror_mode": {
    "name": "ipython",
    "version": 3
   },
   "file_extension": ".py",
   "mimetype": "text/x-python",
   "name": "python",
   "nbconvert_exporter": "python",
   "pygments_lexer": "ipython3",
   "version": "3.11.3"
  }
 },
 "nbformat": 4,
 "nbformat_minor": 5
}
