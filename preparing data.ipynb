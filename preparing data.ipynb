{
 "cells": [
  {
   "cell_type": "code",
   "execution_count": 26,
   "id": "vKxV3pWSENkd",
   "metadata": {
    "id": "vKxV3pWSENkd"
   },
   "outputs": [],
   "source": [
    "# Импортируем все нужные библиотеки\n",
    "import pandas as pd\n",
    "import numpy as np\n",
    "import os\n",
    "import threading\n",
    "from tqdm import tqdm\n",
    "import pandas as pd\n",
    "import gdown\n",
    "import openai\n",
    "import time\n",
    "import json"
   ]
  },
  {
   "cell_type": "markdown",
   "id": "nojt01zKj_am",
   "metadata": {
    "id": "nojt01zKj_am"
   },
   "source": [
    "Скачиваем рейтинги с сайта fortune 500  (https://fortune.com/ranking/)\n",
    "\n",
    "ps. (просто скопировал их мышкой в excel файлы)"
   ]
  },
  {
   "cell_type": "code",
   "execution_count": 27,
   "id": "nEXBAZ9GClpB",
   "metadata": {
    "colab": {
     "base_uri": "https://localhost:8080/",
     "height": 36
    },
    "id": "nEXBAZ9GClpB",
    "outputId": "3f0d5e45-9b4a-4466-dc34-4c471271c858"
   },
   "outputs": [
    {
     "data": {
      "text/plain": [
       "'fortune1000_2000.xlsx'"
      ]
     },
     "execution_count": 27,
     "metadata": {},
     "output_type": "execute_result"
    }
   ],
   "source": [
    "gdown.download('https://drive.google.com/uc?id=1mKBwlwo1HVAIFljJ7FyncyqOo2d9DMsW', output='fortune1000_2023.xlsx', quiet=True)\n",
    "gdown.download('https://drive.google.com/uc?id=1vPP8sHjxHipW5Cc6B6rhXmzIyJfGVIxM', output='fortune1000_2000.xlsx', quiet=True)"
   ]
  },
  {
   "cell_type": "code",
   "execution_count": 28,
   "id": "WxFC9hxMJpiD",
   "metadata": {
    "colab": {
     "base_uri": "https://localhost:8080/",
     "height": 206
    },
    "id": "WxFC9hxMJpiD",
    "outputId": "4e5e0fb6-16ed-4035-c50b-b7a940caf2c9"
   },
   "outputs": [
    {
     "data": {
      "text/html": [
       "<div>\n",
       "<style scoped>\n",
       "    .dataframe tbody tr th:only-of-type {\n",
       "        vertical-align: middle;\n",
       "    }\n",
       "\n",
       "    .dataframe tbody tr th {\n",
       "        vertical-align: top;\n",
       "    }\n",
       "\n",
       "    .dataframe thead th {\n",
       "        text-align: right;\n",
       "    }\n",
       "</style>\n",
       "<table border=\"1\" class=\"dataframe\">\n",
       "  <thead>\n",
       "    <tr style=\"text-align: right;\">\n",
       "      <th></th>\n",
       "      <th>Rank_2023</th>\n",
       "      <th>2023</th>\n",
       "      <th>2000</th>\n",
       "    </tr>\n",
       "  </thead>\n",
       "  <tbody>\n",
       "    <tr>\n",
       "      <th>0</th>\n",
       "      <td>1</td>\n",
       "      <td>Walmart</td>\n",
       "      <td>Wal-Mart Stores, Inc.</td>\n",
       "    </tr>\n",
       "    <tr>\n",
       "      <th>1</th>\n",
       "      <td>2</td>\n",
       "      <td>Amazon</td>\n",
       "      <td>General Motors Corporation</td>\n",
       "    </tr>\n",
       "    <tr>\n",
       "      <th>2</th>\n",
       "      <td>3</td>\n",
       "      <td>Exxon Mobil</td>\n",
       "      <td>Exxon Mobil Corporation</td>\n",
       "    </tr>\n",
       "    <tr>\n",
       "      <th>3</th>\n",
       "      <td>4</td>\n",
       "      <td>Apple</td>\n",
       "      <td>Ford Motor Company</td>\n",
       "    </tr>\n",
       "    <tr>\n",
       "      <th>4</th>\n",
       "      <td>5</td>\n",
       "      <td>UnitedHealth Group</td>\n",
       "      <td>General Electric Company</td>\n",
       "    </tr>\n",
       "  </tbody>\n",
       "</table>\n",
       "</div>"
      ],
      "text/plain": [
       "   Rank_2023                2023                        2000\n",
       "0          1             Walmart       Wal-Mart Stores, Inc.\n",
       "1          2              Amazon  General Motors Corporation\n",
       "2          3         Exxon Mobil     Exxon Mobil Corporation\n",
       "3          4               Apple          Ford Motor Company\n",
       "4          5  UnitedHealth Group    General Electric Company"
      ]
     },
     "execution_count": 28,
     "metadata": {},
     "output_type": "execute_result"
    }
   ],
   "source": [
    "df_2000 = pd.read_excel('fortune1000_2000.xlsx')\n",
    "df = pd.read_excel('fortune1000_2023.xlsx')\n",
    "df_2000 = df_2000.rename(columns = {'NAME' : '2000', 'RANK' : 'Rank'})\n",
    "df = df.rename(columns = {'NAME' : '2023', 'RANK' : 'Rank_2023'})\n",
    "df = df[['Rank_2023','2023']]\n",
    "df['2000'] = df_2000['2000']\n",
    "df.head()"
   ]
  },
  {
   "cell_type": "markdown",
   "id": "oq1EEpJOKAwv",
   "metadata": {
    "id": "oq1EEpJOKAwv"
   },
   "source": [
    "Итак, мы скачали два рейтинга Fortune global 1000.\n",
    "\n",
    "\n",
    "---\n",
    "\n",
    "\n",
    "Теперь нам нужно привести все названия компаний к одному времени (ведь некоторые компании в 2000 году назывались по-другому.)\n",
    "\n",
    "Для этого\n",
    "*   Для каждой компании из рейтинга 2023 года найдем список ее предыдущих названий\n",
    "*   При сравнении рейтингов будем сравнивать эти найденные названия с названиями компаний рейтинга 2000 года.\n",
    "\n",
    "\n",
    "\n"
   ]
  },
  {
   "cell_type": "markdown",
   "id": "dr85e-0pKvig",
   "metadata": {
    "id": "dr85e-0pKvig"
   },
   "source": [
    "Как мы видим, простое попарное сравнение дает нам всего 33 одинаковых названия компаний в двух рейтингах, но этого мало.\n",
    "Подключим Chat-GPT для решения этой проблемы"
   ]
  },
  {
   "cell_type": "markdown",
   "id": "3fe584b6",
   "metadata": {},
   "source": [
    "Ниже приведем код для запуска chat GPT (будьте осторожны, если у вас нет платной подписки, то чат джпт будет работать около 5 дней, так как есть ограничение на 200 запросов в сутки, а здесь их 1000 стоит)"
   ]
  },
  {
   "cell_type": "code",
   "execution_count": 22,
   "id": "5DjO9eSgc0fd",
   "metadata": {
    "id": "5DjO9eSgc0fd"
   },
   "outputs": [],
   "source": [
    "#загрузим токен для доступа к chatGPT\n",
    "with open('.env', \"r\") as file:\n",
    "    api = file.readline().strip()\n",
    "    api = api.split('TOKEN=')[1]"
   ]
  },
  {
   "cell_type": "code",
   "execution_count": 18,
   "id": "gj3i1p2kqyoG",
   "metadata": {
    "colab": {
     "base_uri": "https://localhost:8080/"
    },
    "id": "gj3i1p2kqyoG",
    "outputId": "ba9cb49e-8465-4aa2-e532-3f91191935b4"
   },
   "outputs": [],
   "source": [
    "def chat_generation(companies):\n",
    "  content = \"Forget what you did before. Here is a company name from fortune global 1000. Write to this company a list of it`s previous names as public companies and a name of the company in the 2003 or 2002. If there is no previous names write the name the company had in 2003. If company had an extended name from fortune 1000 write extenden name of the company. Do it in a manner of json, output should be good for api.  The name of the company is - : \"\n",
    "  companies = ' '.join(companies)\n",
    "  content += companies\n",
    "  completion = openai.ChatCompletion.create(\n",
    "  model=\"gpt-3.5-turbo\",\n",
    "  messages=[\n",
    "    {\"role\": \"user\", \"content\": content}] )\n",
    "  return completion.choices[0].message.content\n",
    "\n",
    "\n",
    "# Пример работы ChanGPT:\n",
    "n = chat_generation(['Dow'])\n",
    "json.loads(n)"
   ]
  },
  {
   "cell_type": "code",
   "execution_count": 67,
   "id": "jiTuEWEzqAJS",
   "metadata": {
    "colab": {
     "base_uri": "https://localhost:8080/",
     "height": 465
    },
    "id": "jiTuEWEzqAJS",
    "outputId": "9d62421d-d27b-43d6-be16-7116240ed733",
    "scrolled": true
   },
   "outputs": [
    {
     "name": "stdout",
     "output_type": "stream",
     "text": [
      "CPU times: total: 0 ns\n",
      "Wall time: 0 ns\n"
     ]
    },
    {
     "name": "stderr",
     "output_type": "stream",
     "text": [
      "\r\n",
      "  0%|                                                                                            | 0/5 [00:00<?, ?it/s]"
     ]
    },
    {
     "name": "stdout",
     "output_type": "stream",
     "text": [
      "News Corp.   {\n",
      "  \"companyName\": \"News Corp\",\n",
      "  \"previousNames\": [\n",
      "    {\n",
      "      \"year\": \"2003\",\n",
      "      \"name\": \"News Corp\"\n",
      "    }\n",
      "  ]\n",
      "}\n"
     ]
    },
    {
     "name": "stderr",
     "output_type": "stream",
     "text": [
      "\r\n",
      " 20%|████████████████▊                                                                   | 1/5 [01:02<04:10, 62.54s/it]"
     ]
    },
    {
     "name": "stdout",
     "output_type": "stream",
     "text": [
      "ODP   {\n",
      "  \"companyName\": \"ODP\",\n",
      "  \"previousNames\": [\n",
      "    \"Office Depot, Inc.\",\n",
      "    \"The Office Club, Inc.\"\n",
      "  ],\n",
      "  \"name2002\": \"Office Depot, Inc.\"\n",
      "}\n"
     ]
    },
    {
     "name": "stderr",
     "output_type": "stream",
     "text": [
      "\r\n",
      " 40%|█████████████████████████████████▌                                                  | 2/5 [02:05<03:08, 62.74s/it]"
     ]
    },
    {
     "name": "stdout",
     "output_type": "stream",
     "text": [
      "Zions Bancorp.   {\n",
      "  \"companyName\": \"Zions Bancorp\",\n",
      "  \"previousNames\": [\n",
      "    \"Zions First National Bank\",\n",
      "    \"Zions Bancorporation\"\n",
      "  ],\n",
      "  \"name2003\": \"Zions Bancorp\"\n",
      "}\n"
     ]
    },
    {
     "name": "stderr",
     "output_type": "stream",
     "text": [
      "\r\n",
      " 60%|██████████████████████████████████████████████████▍                                 | 3/5 [03:11<02:08, 64.21s/it]"
     ]
    },
    {
     "name": "stdout",
     "output_type": "stream",
     "text": [
      "Western Alliance Bancorp.   {\n",
      "  \"companyName\": \"Western Alliance Bancorp\",\n",
      "  \"previousNames\": {\n",
      "    \"2002\": \"Western Alliance Bancorporation\",\n",
      "    \"2003\": \"Western Alliance Bancorporation\",\n",
      "    \"2004\": \"Western Alliance Bank\",\n",
      "    \"2005\": \"Western Alliance Bank Corp\",\n",
      "    \"2006\": \"Western Alliance Bancorporation\",\n",
      "    \"2007\": \"Western Alliance Bancorp\",\n",
      "    \"2008\": \"Western Alliance Bancorp\",\n",
      "    \"2009\": \"Western Alliance Bancorporation\",\n",
      "    \"2010\": \"Western Alliance Bancorp\",\n",
      "    \"2011\": \"Western Alliance Bancorp\",\n",
      "    \"2012\": \"Western Alliance Bancorporation\",\n",
      "    \"2013\": \"Western Alliance Bancorp\",\n",
      "    \"2014\": \"Western Alliance Bancorporation\",\n",
      "    \"2015\": \"Western Alliance Bancorp\",\n",
      "    \"2016\": \"Western Alliance Bancorp\",\n",
      "    \"2017\": \"Western Alliance Bancorporation\",\n",
      "    \"2018\": \"Western Alliance Bancorp\",\n",
      "    \"2019\": \"Western Alliance Bancorporation\"\n",
      "  }\n",
      "}\n"
     ]
    },
    {
     "name": "stderr",
     "output_type": "stream",
     "text": [
      "\r\n",
      " 80%|███████████████████████████████████████████████████████████████████▏                | 4/5 [04:27<01:09, 69.02s/it]"
     ]
    },
    {
     "name": "stdout",
     "output_type": "stream",
     "text": [
      "Agilon health   {\n",
      "   \"companyName\": \"Agilon health\",\n",
      "   \"previousNames\": {\n",
      "      \"2003\": \"Agilon health\"\n",
      "   }\n",
      "}\n"
     ]
    },
    {
     "name": "stderr",
     "output_type": "stream",
     "text": [
      "100%|████████████████████████████████████████████████████████████████████████████████████| 5/5 [05:30<00:00, 66.15s/it]\n"
     ]
    }
   ],
   "source": [
    "%time\n",
    "\n",
    "from openai.error import RateLimitError, ServiceUnavailableError, APIConnectionError\n",
    "l = []\n",
    "k = []\n",
    "i = 0\n",
    "\n",
    "for company in tqdm(fd):\n",
    "    i += 1\n",
    "    if  True:\n",
    "        try:\n",
    "            generated = chat_generation([company])\n",
    "            print(company, ' ', generated)\n",
    "        except ServiceUnavailableError:\n",
    "            print(f'ServiceUnavailableError, wait for 900 sec. current company - {i}/1000')\n",
    "            time.sleep(900)\n",
    "            try:\n",
    "                generated = chat_generation([company])\n",
    "            except:\n",
    "                print('Trial did not succeed')\n",
    "                break\n",
    "        except RateLimitError:\n",
    "            print(f'rate limit_err, wait for 900 sec. current company - {i}/1000')\n",
    "            time.sleep(900)\n",
    "            try:\n",
    "                generated = chat_generation([company])\n",
    "            except:\n",
    "                print('Trial did not succeed')\n",
    "                break\n",
    "        except APIConnectionError:\n",
    "            print(f'APIConnectionError, wait for 900 sec. current company - {i}/1000')\n",
    "            time.sleep(900)\n",
    "            try:\n",
    "                generated = chat_generation([company])\n",
    "            except:\n",
    "                print('Trial did not succeed')\n",
    "                break\n",
    "            \n",
    "        l.append(generated)\n",
    "        time.sleep(60)\n",
    "    if i % 100 == 0 and (i not in [100, 200, 300, 400, 500, 600, 700]):\n",
    "        time.sleep(300)\n",
    "\n"
   ]
  },
  {
   "cell_type": "code",
   "execution_count": null,
   "id": "872aa71f",
   "metadata": {},
   "outputs": [],
   "source": [
    "len(l)"
   ]
  },
  {
   "cell_type": "code",
   "execution_count": null,
   "id": "c2dca651",
   "metadata": {},
   "outputs": [],
   "source": [
    "file_path = \"chat_gpt_helper.txt\"\n",
    "\n",
    "with open(file_path, \"w\") as file:\n",
    "    file.write(json.dumps(l))\n",
    "\n",
    "print(\"Merged dictionary saved to\", file_path)"
   ]
  },
  {
   "cell_type": "markdown",
   "id": "4f7910c0",
   "metadata": {},
   "source": [
    "Итак, мы загрузили историю названий каждой из компаний в файл, который сможем дальше использовать.\n",
    "Теперь осталось привести файл в удобочитаемый вид, и можно будет проводить анализ"
   ]
  },
  {
   "cell_type": "markdown",
   "id": "4d5de70b",
   "metadata": {},
   "source": [
    "# из каждого запроса в чат дж п т возмем все имена\n",
    "def get_values(dicti):\n",
    "    list_names = []\n",
    "    for key, item in dicti.items():\n",
    "        if type(item) == str:\n",
    "            list_names.append(item)\n",
    "        elif type(item) == list:\n",
    "            for i in item:\n",
    "                if type(i) == dict:\n",
    "                    for fg_key, gf_item in i.items():\n",
    "                        if fg_key !='year':\n",
    "                            assert type(fg_key) == str, print(fg_key)\n",
    "                            list_names.append(gf_item)\n",
    "                else:\n",
    "                    assert type(i) == str, print(i)\n",
    "                    list_names.append(i)\n",
    "    return list_names"
   ]
  },
  {
   "cell_type": "code",
   "execution_count": null,
   "id": "a4e733ba",
   "metadata": {},
   "outputs": [],
   "source": [
    "# загрузим обратно список ответов ChatGPT\n",
    "with open('chat_gpt_helper.txt', \"r\") as file:\n",
    "    b = json.load(file)\n",
    "\n",
    "# создадим словарь, где каждому названию компании будет соответствовать список ее предыдущих имен из chatGPT\n",
    "tl = []\n",
    "for iterr, i in enumerate(b):\n",
    "    values = get_values(i)\n",
    "    for j in i.items():\n",
    "        name = j[1]\n",
    "        if name in ['News Corp', 'Zions Bancorp', 'Western Alliance Bancorp']:\n",
    "            name +='.'\n",
    "        break\n",
    "    try:\n",
    "        assert type(values[0]) != list, print(values)\n",
    "        tl.append({name :values})\n",
    "    except:\n",
    "        print(name, values)\n",
    "        print(i)\n",
    "\n",
    "# Сохраним файл\n",
    "with open('ready.txt', \"w\") as file:\n",
    "    file.write(json.dumps(tl))\n"
   ]
  },
  {
   "cell_type": "markdown",
   "id": "7e149a0e",
   "metadata": {},
   "source": [
    "Все, файл с историей имен готов, можно приступать к анализу"
   ]
  },
  {
   "cell_type": "markdown",
   "id": "2e9bd964",
   "metadata": {},
   "source": []
  }
 ],
 "metadata": {
  "colab": {
   "provenance": []
  },
  "kernelspec": {
   "display_name": "Python 3 (ipykernel)",
   "language": "python",
   "name": "python3"
  },
  "language_info": {
   "codemirror_mode": {
    "name": "ipython",
    "version": 3
   },
   "file_extension": ".py",
   "mimetype": "text/x-python",
   "name": "python",
   "nbconvert_exporter": "python",
   "pygments_lexer": "ipython3",
   "version": "3.11.3"
  }
 },
 "nbformat": 4,
 "nbformat_minor": 5
}
